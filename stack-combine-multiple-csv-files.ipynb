{
 "cells": [
  {
   "cell_type": "markdown",
   "metadata": {},
   "source": [
    "## Automatically combine multiple CSV files via filename pattern matching under a given folder"
   ]
  },
  {
   "cell_type": "markdown",
   "metadata": {},
   "source": [
    "### Importing CSV Files into a Python List\n",
    "When importing data, I made sure that:\n",
    "\n",
    "* [_Location Independent_] It is independent of where one saves this notebook: one needs only to change the name of the folder where the CVS files are located.\n",
    "* [_Automation_] Any CSV dataset (in the given folder) will be stored automatically.\n",
    "* [_Housekeeping_] CSV filenames were added as a column of each respective CVS dataset for tracking purposes.\n",
    "\n",
    "Considerations and Assumptions:\n",
    "\n",
    "* [_Same Features_] The provided CSV files have the same features (aka same columns).\n",
    "* [_Same Filename Pattern_] The CSV filename follows the same pattern, for example, a filename can be DDMMYYY.csv, hence multiple files (for different days of the year) are stored under a given folder."
   ]
  },
  {
   "cell_type": "code",
   "execution_count": 2,
   "metadata": {},
   "outputs": [
    {
     "ename": "FileNotFoundError",
     "evalue": "[WinError 3] The system cannot find the path specified: 'C:\\\\Users\\\\ETC_ETC_ETC\\\\FOLDER_NAME_CHANGE_HERE'",
     "output_type": "error",
     "traceback": [
      "\u001b[1;31m---------------------------------------------------------------------------\u001b[0m",
      "\u001b[1;31mFileNotFoundError\u001b[0m                         Traceback (most recent call last)",
      "\u001b[1;32m~\\AppData\\Local\\Temp/ipykernel_6952/4131413393.py\u001b[0m in \u001b[0;36m<module>\u001b[1;34m\u001b[0m\n\u001b[0;32m      7\u001b[0m \u001b[0mmain_dir\u001b[0m \u001b[1;33m=\u001b[0m \u001b[1;34m'C:\\\\Users\\\\ETC_ETC_ETC'\u001b[0m                  \u001b[1;31m# set the location where this notebook is saved\u001b[0m\u001b[1;33m\u001b[0m\u001b[1;33m\u001b[0m\u001b[0m\n\u001b[0;32m      8\u001b[0m \u001b[0mcsv_folder_path\u001b[0m \u001b[1;33m=\u001b[0m \u001b[0mmain_dir\u001b[0m \u001b[1;33m+\u001b[0m \u001b[1;34m'\\\\'\u001b[0m \u001b[1;33m+\u001b[0m \u001b[0mcsv_folder_name\u001b[0m  \u001b[1;31m# set path for the CSV files\u001b[0m\u001b[1;33m\u001b[0m\u001b[1;33m\u001b[0m\u001b[0m\n\u001b[1;32m----> 9\u001b[1;33m \u001b[0mos\u001b[0m\u001b[1;33m.\u001b[0m\u001b[0mchdir\u001b[0m\u001b[1;33m(\u001b[0m\u001b[0mcsv_folder_path\u001b[0m\u001b[1;33m)\u001b[0m                            \u001b[1;31m# set location of CSV files\u001b[0m\u001b[1;33m\u001b[0m\u001b[1;33m\u001b[0m\u001b[0m\n\u001b[0m\u001b[0;32m     10\u001b[0m \u001b[1;33m\u001b[0m\u001b[0m\n\u001b[0;32m     11\u001b[0m \u001b[1;31m# Store the datasets' names in a Python List called 'file_names'\u001b[0m\u001b[1;33m\u001b[0m\u001b[1;33m\u001b[0m\u001b[0m\n",
      "\u001b[1;31mFileNotFoundError\u001b[0m: [WinError 3] The system cannot find the path specified: 'C:\\\\Users\\\\ETC_ETC_ETC\\\\FOLDER_NAME_CHANGE_HERE'"
     ]
    }
   ],
   "source": [
    "import pandas as pd # for data analysis\n",
    "import os           # for file interactions in the user's operating system\n",
    "import glob         # for retriving filename pattern matching\n",
    "\n",
    "# Set name, main directory, current directory, and path for the CSV folder\n",
    "csv_folder_name = 'FOLDER_NAME_CHANGE_HERE'          # please, change the folder name where CSV files are stored **if need be**\n",
    "main_dir = 'C:\\\\Users\\\\ETC_ETC_ETC'                  # set the location where this notebook is saved\n",
    "csv_folder_path = main_dir + '\\\\' + csv_folder_name  # set path for the CSV files\n",
    "os.chdir(csv_folder_path)                            # set location of CSV files\n",
    "\n",
    "# Store the datasets' names in a Python List called 'file_names'\n",
    "from glob import glob\n",
    "complete_file_names = glob('*.csv') # search for all CSV files in the current directory and store their filenames in a Python List\n",
    "\n",
    "if os.listdir() != complete_file_names: # check whether all stored CSV filenames are the same as the ones in the current directory\n",
    "    print(\"There is inconsistency between the imported CSV files and the actual CVS files in the \" + csv_folder_name + \" folder!\")\n",
    "else:\n",
    "    print(\"The imported CSV files are consistent with the ones in the \" + csv_folder_name + \" folder!\")\n",
    "    \n",
    "# Read all CSV files and store them in a Python List. In this list, each entry is a CSV file converted into a Python DataFrame.\n",
    "# For each stored CSV file, add a new column where entries are the CSV filename without the '.csv'. This is for tracking purposes.\n",
    "csv_files_list = []\n",
    "for f in complete_file_names:\n",
    "    if f.endswith('.csv'):\n",
    "        df = pd.read_csv(f, index_col = None, header = 4, sep = ';')\n",
    "        df['filename'] = f\n",
    "        df['filename'].replace(regex = True, inplace = True, to_replace = r'.csv', value = '') # remove '.csv' from filename\n",
    "        csv_files_list.append(df)\n",
    "        \n",
    "# Get number of rows of all stored CSV files and save them in a Python List. Get total number of rows.\n",
    "n_rows_csv_files = []\n",
    "count = 0\n",
    "\n",
    "for i in csv_files_list:\n",
    "    n_rows_csv_files.append(csv_files_list[count].shape[0])  # loop over the stored CSV files and append each respective n of rows to a \n",
    "    count += 1\n",
    "\n",
    "n_total_rows_csv_files = sum(n_rows_csv_files)               # save total number of rows from all CSV files"
   ]
  },
  {
   "cell_type": "markdown",
   "metadata": {},
   "source": [
    "### Stacking CSV Files' Records into a Single CSV File\n",
    "In this section, I made sure that:\n",
    "\n",
    "* Only the CSV files' records were stored. So we look for the row where the records start.\n",
    "* Only one New Single File is created under the pattern name, for example DDMMYYY.csv."
   ]
  },
  {
   "cell_type": "code",
   "execution_count": 4,
   "metadata": {},
   "outputs": [
    {
     "ename": "NameError",
     "evalue": "name 'csv_files_list' is not defined",
     "output_type": "error",
     "traceback": [
      "\u001b[1;31m---------------------------------------------------------------------------\u001b[0m",
      "\u001b[1;31mNameError\u001b[0m                                 Traceback (most recent call last)",
      "\u001b[1;32m~\\AppData\\Local\\Temp/ipykernel_6952/189321173.py\u001b[0m in \u001b[0;36m<module>\u001b[1;34m\u001b[0m\n\u001b[0;32m      1\u001b[0m \u001b[1;31m# Stack all CSV files vertically into one single Python DataFrame.\u001b[0m\u001b[1;33m\u001b[0m\u001b[1;33m\u001b[0m\u001b[0m\n\u001b[1;32m----> 2\u001b[1;33m \u001b[0mdatasets_df\u001b[0m \u001b[1;33m=\u001b[0m \u001b[0mpd\u001b[0m\u001b[1;33m.\u001b[0m\u001b[0mconcat\u001b[0m\u001b[1;33m(\u001b[0m\u001b[0mcsv_files_list\u001b[0m\u001b[1;33m,\u001b[0m \u001b[0mignore_index\u001b[0m \u001b[1;33m=\u001b[0m \u001b[1;32mTrue\u001b[0m\u001b[1;33m)\u001b[0m\u001b[1;33m\u001b[0m\u001b[1;33m\u001b[0m\u001b[0m\n\u001b[0m\u001b[0;32m      3\u001b[0m \u001b[1;33m\u001b[0m\u001b[0m\n\u001b[0;32m      4\u001b[0m \u001b[1;31m# Check consistency between total number of rows before and after stacking CSV files\u001b[0m\u001b[1;33m\u001b[0m\u001b[1;33m\u001b[0m\u001b[0m\n\u001b[0;32m      5\u001b[0m \u001b[0mn_total_rows_stacked_csv_file\u001b[0m \u001b[1;33m=\u001b[0m \u001b[0mdatasets_df\u001b[0m\u001b[1;33m.\u001b[0m\u001b[0mshape\u001b[0m\u001b[1;33m[\u001b[0m\u001b[1;36m0\u001b[0m\u001b[1;33m]\u001b[0m \u001b[1;31m# save total number of rows from the stacked CSV files\u001b[0m\u001b[1;33m\u001b[0m\u001b[1;33m\u001b[0m\u001b[0m\n",
      "\u001b[1;31mNameError\u001b[0m: name 'csv_files_list' is not defined"
     ]
    }
   ],
   "source": [
    "# Stack all CSV files vertically into one single Python DataFrame.\n",
    "datasets_df = pd.concat(csv_files_list, ignore_index = True)\n",
    "\n",
    "# Check consistency between total number of rows before and after stacking CSV files\n",
    "n_total_rows_stacked_csv_file = datasets_df.shape[0] # save total number of rows from the stacked CSV files\n",
    "\n",
    "if n_total_rows_csv_files != n_total_rows_stacked_csv_file:\n",
    "    print(\"Error when Stacking Datasets\")     \n",
    "else:\n",
    "    print(\"Stacking process worked just fine! Here, I made sure that the total number of rows of all the original CSV files matches the number of rows on the New Single CSV File\")\n",
    "        \n",
    "# Rename column 'filename' to 'NAME_OF_YOUR_CHOICE'. Recode it to Date Format in case it is a column of the type date \n",
    "datasets_df.rename(columns = {'filename':'NAME_OF_YOUR_CHOICE'}, inplace = True)\n",
    "datasets_df['NAME_OF_YOUR_CHOICE']         = pd.to_datetime(datasets_df['NAME_OF_YOUR_CHOICE'], format = '%d%m%Y')  #change from string to date type\n",
    "\n",
    "# Save final dataset into a New Single CSV file (NEW_SINGLE_CSV_FILE) and drop the index column.\n",
    "# Here two files were created (csv and txt). This is because when the user opens the csv on excel, the leading zeros of numeric columns are droped by excel (but they remain in txt!)\n",
    "saved_dir_nl_csv = main_dir + \"\\\\\" + \"NEW_SINGLE_CSV_FILE.csv\"\n",
    "new_single_csv_nl = datasets_df.to_csv(saved_dir_nl_csv, sep = ';', index = False)\n",
    "\n",
    "saved_dir_nl_txt = main_dir + \"\\\\\" + \"NEW_SINGLE_CSV_FILE.txt\"\n",
    "new_single_txt_nl = datasets_df.to_csv(saved_dir_nl_txt, sep = ';', index = False)\n",
    "\n",
    "# Quickly view the new DataFrame Shape\n",
    "print(\"The New CSV Single File is called 'NEW_SINGLE_CSV_FILE.csv' and it has: \" + str(datasets_df.shape[0]) + \" rows and \" + str(datasets_df.shape[1]) + \" columns.\")"
   ]
  }
 ],
 "metadata": {
  "interpreter": {
   "hash": "ac7dd041828cf56631353191c608ccde6a0be02c5ac588a2993150c1410b91d4"
  },
  "kernelspec": {
   "display_name": "Python 3.9.7 ('base')",
   "language": "python",
   "name": "python3"
  },
  "language_info": {
   "codemirror_mode": {
    "name": "ipython",
    "version": 3
   },
   "file_extension": ".py",
   "mimetype": "text/x-python",
   "name": "python",
   "nbconvert_exporter": "python",
   "pygments_lexer": "ipython3",
   "version": "3.9.7"
  },
  "orig_nbformat": 4
 },
 "nbformat": 4,
 "nbformat_minor": 2
}
